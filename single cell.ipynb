{
 "cells": [
  {
   "cell_type": "code",
   "execution_count": 7,
   "metadata": {
    "collapsed": false
   },
   "outputs": [
    {
     "name": "stdout",
     "output_type": "stream",
     "text": [
      "Empty DataFrame\n",
      "Columns: []\n",
      "Index: [AAACCTGAGAAACCGC-1, AAACCTGAGAAACCTA-1, AAACCTGAGAAACGAG-1, AAACCTGAGAAACGCC-1, AAACCTGAGAAAGTGG-1, AAACCTGAGAACAACT-1, AAACCTGAGAACAATC-1, AAACCTGAGAACTCGG-1, AAACCTGAGAACTGTA-1, AAACCTGAGAAGAAGC-1, AAACCTGAGAAGATTC-1, AAACCTGAGAAGCCCA-1, AAACCTGAGAAGGACA-1, AAACCTGAGAAGGCCT-1, AAACCTGAGAAGGGTA-1, AAACCTGAGAAGGTGA-1, AAACCTGAGAAGGTTT-1, AAACCTGAGAATAGGG-1, AAACCTGAGAATCTCC-1, AAACCTGAGAATGTGT-1, AAACCTGAGAATGTTG-1, AAACCTGAGAATTCCC-1, AAACCTGAGAATTGTG-1, AAACCTGAGACAAAGG-1, AAACCTGAGACAAGCC-1, AAACCTGAGACAATAC-1, AAACCTGAGACACGAC-1, AAACCTGAGACACTAA-1, AAACCTGAGACAGACC-1, AAACCTGAGACAGAGA-1, AAACCTGAGACAGGCT-1, AAACCTGAGACATAAC-1, AAACCTGAGACCACGA-1, AAACCTGAGACCCACC-1, AAACCTGAGACCGGAT-1, AAACCTGAGACCTAGG-1, AAACCTGAGACCTTTG-1, AAACCTGAGACGACGT-1, AAACCTGAGACGCAAC-1, AAACCTGAGACGCACA-1, AAACCTGAGACGCTTT-1, AAACCTGAGACTAAGT-1, AAACCTGAGACTACAA-1, AAACCTGAGACTAGAT-1, AAACCTGAGACTAGGC-1, AAACCTGAGACTCGGA-1, AAACCTGAGACTGGGT-1, AAACCTGAGACTGTAA-1, AAACCTGAGACTTGAA-1, AAACCTGAGACTTTCG-1, AAACCTGAGAGAACAG-1, AAACCTGAGAGACGAA-1, AAACCTGAGAGACTAT-1, AAACCTGAGAGACTTA-1, AAACCTGAGAGAGCTC-1, AAACCTGAGAGATGAG-1, AAACCTGAGAGCAATT-1, AAACCTGAGAGCCCAA-1, AAACCTGAGAGCCTAG-1, AAACCTGAGAGCTATA-1, AAACCTGAGAGCTGCA-1, AAACCTGAGAGCTGGT-1, AAACCTGAGAGCTTCT-1, AAACCTGAGAGGACGG-1, AAACCTGAGAGGGATA-1, AAACCTGAGAGGGCTT-1, AAACCTGAGAGGTACC-1, AAACCTGAGAGGTAGA-1, AAACCTGAGAGGTTAT-1, AAACCTGAGAGGTTGC-1, AAACCTGAGAGTAAGG-1, AAACCTGAGAGTAATC-1, AAACCTGAGAGTACAT-1, AAACCTGAGAGTACCG-1, AAACCTGAGAGTCGGT-1, AAACCTGAGAGTCTGG-1, AAACCTGAGAGTGACC-1, AAACCTGAGAGTGAGA-1, AAACCTGAGAGTTGGC-1, AAACCTGAGATACACA-1, AAACCTGAGATAGCAT-1, AAACCTGAGATAGGAG-1, AAACCTGAGATAGTCA-1, AAACCTGAGATATACG-1, AAACCTGAGATATGCA-1, AAACCTGAGATATGGT-1, AAACCTGAGATCACGG-1, AAACCTGAGATCCCAT-1, AAACCTGAGATCCCGC-1, AAACCTGAGATCCGAG-1, AAACCTGAGATCCTGT-1, AAACCTGAGATCGATA-1, AAACCTGAGATCGGGT-1, AAACCTGAGATCTGAA-1, AAACCTGAGATCTGCT-1, AAACCTGAGATGAGAG-1, AAACCTGAGATGCCAG-1, AAACCTGAGATGCCTT-1, AAACCTGAGATGCGAC-1, AAACCTGAGATGGCGT-1, ...]\n",
      "\n",
      "[737279 rows x 0 columns]\n",
      "Empty DataFrame\n",
      "Columns: []\n",
      "Index: [mm10_ENSMUSG00000089699\tmm10_Gm1992, mm10_ENSMUSG00000102343\tmm10_Gm37381, mm10_ENSMUSG00000025900\tmm10_Rp1, mm10_ENSMUSG00000109048\tmm10_Rp1, mm10_ENSMUSG00000025902\tmm10_Sox17, mm10_ENSMUSG00000104328\tmm10_Gm37323, mm10_ENSMUSG00000033845\tmm10_Mrpl15, mm10_ENSMUSG00000025903\tmm10_Lypla1, mm10_ENSMUSG00000104217\tmm10_Gm37988, mm10_ENSMUSG00000033813\tmm10_Tcea1, mm10_ENSMUSG00000002459\tmm10_Rgs20, mm10_ENSMUSG00000085623\tmm10_Gm16041, mm10_ENSMUSG00000033793\tmm10_Atp6v1h, mm10_ENSMUSG00000025905\tmm10_Oprk1, mm10_ENSMUSG00000033774\tmm10_Npbwr1, mm10_ENSMUSG00000025907\tmm10_Rb1cc1, mm10_ENSMUSG00000090031\tmm10_4732440D04Rik, mm10_ENSMUSG00000087247\tmm10_Fam150a, mm10_ENSMUSG00000033740\tmm10_St18, mm10_ENSMUSG00000051285\tmm10_Pcmtd1, mm10_ENSMUSG00000097797\tmm10_Gm26901, mm10_ENSMUSG00000103067\tmm10_Gm30414, mm10_ENSMUSG00000025909\tmm10_Sntg1, mm10_ENSMUSG00000061024\tmm10_Rrs1, mm10_ENSMUSG00000025911\tmm10_Adhfe1, mm10_ENSMUSG00000067879\tmm10_3110035E14Rik, mm10_ENSMUSG00000099827\tmm10_Gm29520, mm10_ENSMUSG00000025912\tmm10_Mybl1, mm10_ENSMUSG00000045210\tmm10_Vcpip1, mm10_ENSMUSG00000097893\tmm10_1700034P13Rik, mm10_ENSMUSG00000025915\tmm10_Sgk3, mm10_ENSMUSG00000046101\tmm10_Mcmdc2, mm10_ENSMUSG00000098234\tmm10_Snhg6, mm10_ENSMUSG00000099032\tmm10_Tcf24, mm10_ENSMUSG00000025916\tmm10_Ppp1r42, mm10_ENSMUSG00000087199\tmm10_Gm15818, mm10_ENSMUSG00000025917\tmm10_Cops5, mm10_ENSMUSG00000056763\tmm10_Cspp1, mm10_ENSMUSG00000067851\tmm10_Arfgef1, mm10_ENSMUSG00000042501\tmm10_Cpa6, mm10_ENSMUSG00000048960\tmm10_Prex2, mm10_ENSMUSG00000057715\tmm10_A830018L16Rik, mm10_ENSMUSG00000097171\tmm10_Gm17644, mm10_ENSMUSG00000101314\tmm10_Gm29663, mm10_ENSMUSG00000016918\tmm10_Sulf1, mm10_ENSMUSG00000025938\tmm10_Slco5a1, mm10_ENSMUSG00000099498\tmm10_Gm29283, mm10_ENSMUSG00000042414\tmm10_Prdm14, mm10_ENSMUSG00000005886\tmm10_Ncoa2, mm10_ENSMUSG00000101476\tmm10_Gm29570, mm10_ENSMUSG00000025935\tmm10_Tram1, mm10_ENSMUSG00000025937\tmm10_Lactb2, mm10_ENSMUSG00000067813\tmm10_Xkr9, mm10_ENSMUSG00000025932\tmm10_Eya1, mm10_ENSMUSG00000054493\tmm10_Gm9947, mm10_ENSMUSG00000025930\tmm10_Msc, mm10_ENSMUSG00000032769\tmm10_Trpa1, mm10_ENSMUSG00000092083\tmm10_Kcnb2, mm10_ENSMUSG00000025925\tmm10_Terf1, mm10_ENSMUSG00000032719\tmm10_Sbspon, mm10_ENSMUSG00000067795\tmm10_4930444P10Rik, mm10_ENSMUSG00000043716\tmm10_Rpl7, mm10_ENSMUSG00000025921\tmm10_Rdh10, mm10_ENSMUSG00000100868\tmm10_Gm28095, mm10_ENSMUSG00000025920\tmm10_Stau2, mm10_ENSMUSG00000089982\tmm10_Gm7568, mm10_ENSMUSG00000025939\tmm10_Ube2w, mm10_ENSMUSG00000079658\tmm10_Tceb1, mm10_ENSMUSG00000097744\tmm10_D030040B21Rik, mm10_ENSMUSG00000025940\tmm10_Tmem70, mm10_ENSMUSG00000025779\tmm10_Ly96, mm10_ENSMUSG00000101640\tmm10_Gm28376, mm10_ENSMUSG00000042686\tmm10_Jph1, mm10_ENSMUSG00000100110\tmm10_Gm28783, mm10_ENSMUSG00000025777\tmm10_Gdap1, mm10_ENSMUSG00000099899\tmm10_Gm28784, mm10_ENSMUSG00000067780\tmm10_Pi15, mm10_ENSMUSG00000100053\tmm10_Gm28154, mm10_ENSMUSG00000085125\tmm10_Gm16070, mm10_ENSMUSG00000025776\tmm10_Crispld1, mm10_ENSMUSG00000099895\tmm10_Gm28153, mm10_ENSMUSG00000025774\tmm10_Crisp4, mm10_ENSMUSG00000073735\tmm10_Defb18, mm10_ENSMUSG00000067773\tmm10_Defb41, mm10_ENSMUSG00000101738\tmm10_Gm29006, mm10_ENSMUSG00000089787\tmm10_Gm15825, mm10_ENSMUSG00000042596\tmm10_Tfap2d, mm10_ENSMUSG00000025927\tmm10_Tfap2b, mm10_ENSMUSG00000100538\tmm10_Gm28340, mm10_ENSMUSG00000043760\tmm10_Pkhd1, mm10_ENSMUSG00000089914\tmm10_4930486I03Rik, mm10_ENSMUSG00000099906\tmm10_Gm28653, mm10_ENSMUSG00000025929\tmm10_Il17a, mm10_ENSMUSG00000041872\tmm10_Il17f, mm10_ENSMUSG00000041859\tmm10_Mcm3, mm10_ENSMUSG00000102121\tmm10_Gm28065, mm10_ENSMUSG00000097934\tmm10_6720483E21Rik, mm10_ENSMUSG00000025931\tmm10_Paqr8, mm10_ENSMUSG00000041809\tmm10_Efhc1, mm10_ENSMUSG00000041779\tmm10_Tram2, ...]\n",
      "\n",
      "[27997 rows x 0 columns]\n"
     ]
    },
    {
     "data": {
      "text/plain": [
       "(27998, 737280, 378927, 'coordinate', 'integer', 'general')"
      ]
     },
     "execution_count": 7,
     "metadata": {},
     "output_type": "execute_result"
    }
   ],
   "source": [
    "import pandas as pd\n",
    "import numpy as np\n",
    "import seaborn as sns\n",
    "sns.set()\n",
    "%matplotlib inline\n",
    "\n",
    "from matplotlib import pyplot\n",
    "from scipy import stats\n",
    "\n",
    "from pandas import DataFrame\n",
    "\n",
    "url = \"raw_gene_bc_matrices/mm10\"\n",
    "\n",
    "barcodes = DataFrame.from_csv(url + \"/barcodes.tsv\")\n",
    "\n",
    "print(barcodes)\n",
    "\n",
    "\n",
    "genes = DataFrame.from_csv(url + \"/genes.tsv\")\n",
    "\n",
    "print(genes)\n",
    "from scipy.io import mminfo,mmread\n",
    "mminfo(url + \"/matrix.mtx\")\n",
    "\n",
    "# matrix = mmread(\"matrices_mex/hg19/matrix.mtx\")"
   ]
  },
  {
   "cell_type": "code",
   "execution_count": 5,
   "metadata": {
    "collapsed": true
   },
   "outputs": [],
   "source": [
    "matrix = mmread(url+\"/matrix.mtx\")"
   ]
  },
  {
   "cell_type": "code",
   "execution_count": 25,
   "metadata": {
    "collapsed": false
   },
   "outputs": [],
   "source": [
    "def into_pd(m = matrix):\n",
    "    coo = m.tocoo(copy=False)\n",
    "    df = pd.DataFrame({'index': coo.row, 'col': coo.col, 'data': coo.data}\n",
    "                     )[['index', 'col', 'data']].sort_values(['index', 'col']\n",
    "                     ).reset_index(drop=True)\n",
    "    print(df)"
   ]
  },
  {
   "cell_type": "code",
   "execution_count": 26,
   "metadata": {
    "collapsed": false
   },
   "outputs": [
    {
     "name": "stdout",
     "output_type": "stream",
     "text": [
      "        index     col  data\n",
      "0           7    5417     3\n",
      "1           7    9824     5\n",
      "2           7   16616     1\n",
      "3           7   18632     5\n",
      "4           7   28075     7\n",
      "5           7   42775     5\n",
      "6           7   64092     6\n",
      "7           7   65282     1\n",
      "8           7   74924     1\n",
      "9           7   88318     1\n",
      "10          7   92011     1\n",
      "11          7   93272     6\n",
      "12          7  106752     2\n",
      "13          7  107941     8\n",
      "14          7  133416     1\n",
      "15          7  145540     5\n",
      "16          7  160037     1\n",
      "17          7  164058     1\n",
      "18          7  174766     1\n",
      "19          7  176594     2\n",
      "20          7  191699    11\n",
      "21          7  248437     3\n",
      "22          7  263389     4\n",
      "23          7  263929     3\n",
      "24          7  272065     1\n",
      "25          7  278803     3\n",
      "26          7  288394     9\n",
      "27          7  299978     1\n",
      "28          7  301488     1\n",
      "29          7  304729     1\n",
      "...       ...     ...   ...\n",
      "378897  27994  598935     1\n",
      "378898  27994  599885     1\n",
      "378899  27994  616555     1\n",
      "378900  27994  618457     2\n",
      "378901  27994  626408     1\n",
      "378902  27994  719434     2\n",
      "378903  27994  729980     1\n",
      "378904  27995    5417     2\n",
      "378905  27995   64092     1\n",
      "378906  27995   65282     1\n",
      "378907  27995   78182     1\n",
      "378908  27995   92011     1\n",
      "378909  27995  107941     1\n",
      "378910  27995  191699     1\n",
      "378911  27995  278803     1\n",
      "378912  27995  345634     1\n",
      "378913  27995  357157     1\n",
      "378914  27995  417512     1\n",
      "378915  27995  428448     1\n",
      "378916  27995  445770     1\n",
      "378917  27995  470602     1\n",
      "378918  27995  474344     1\n",
      "378919  27995  534271     1\n",
      "378920  27995  568757     1\n",
      "378921  27995  576225     1\n",
      "378922  27995  594136     1\n",
      "378923  27995  594596     1\n",
      "378924  27995  616555     1\n",
      "378925  27995  618457     1\n",
      "378926  27995  663354     1\n",
      "\n",
      "[378927 rows x 3 columns]\n"
     ]
    }
   ],
   "source": [
    "into_pd(matrix)"
   ]
  },
  {
   "cell_type": "code",
   "execution_count": 27,
   "metadata": {
    "collapsed": false
   },
   "outputs": [
    {
     "name": "stdout",
     "output_type": "stream",
     "text": [
      "        index     col        data\n",
      "0           7    5417    0.428928\n",
      "1           7    9824    0.603769\n",
      "2           7   16616   50.460610\n",
      "3           7   18632    0.533782\n",
      "4           7   28075    0.993214\n",
      "5           7   42775    0.433918\n",
      "6           7   64092    0.429293\n",
      "7           7   65282    0.144992\n",
      "8           7   74924   83.668992\n",
      "9           7   88318   96.610904\n",
      "10          7   92011    0.343776\n",
      "11          7   93272    0.705141\n",
      "12          7  106752    0.273234\n",
      "13          7  107941    0.554977\n",
      "14          7  133416   96.610904\n",
      "15          7  145540    0.506064\n",
      "16          7  160037  118.321596\n",
      "17          7  164058  118.321596\n",
      "18          7  174766    0.148651\n",
      "19          7  176594    0.324095\n",
      "20          7  191699    0.745219\n",
      "21          7  248437    0.524249\n",
      "22          7  263389    0.467524\n",
      "23          7  263929    0.386168\n",
      "24          7  272065   68.317886\n",
      "25          7  278803    0.396411\n",
      "26          7  288394    0.998542\n",
      "27          7  299978    0.134502\n",
      "28          7  301488  118.321596\n",
      "29          7  304729    0.106167\n",
      "...       ...     ...         ...\n",
      "378897  27994  598935    0.136983\n",
      "378898  27994  599885  118.321596\n",
      "378899  27994  616555    0.173736\n",
      "378900  27994  618457    0.240687\n",
      "378901  27994  626408   20.160647\n",
      "378902  27994  719434    0.301374\n",
      "378903  27994  729980    0.102499\n",
      "378904  27995    5417    0.285952\n",
      "378905  27995   64092    0.071549\n",
      "378906  27995   65282    0.144992\n",
      "378907  27995   78182   48.313219\n",
      "378908  27995   92011    0.343776\n",
      "378909  27995  107941    0.069372\n",
      "378910  27995  191699    0.067747\n",
      "378911  27995  278803    0.132137\n",
      "378912  27995  345634    0.136215\n",
      "378913  27995  357157    0.081868\n",
      "378914  27995  417512   21.272497\n",
      "378915  27995  428448    0.205835\n",
      "378916  27995  445770    0.224203\n",
      "378917  27995  470602    0.121346\n",
      "378918  27995  474344   13.418943\n",
      "378919  27995  534271    0.140620\n",
      "378920  27995  568757    0.099615\n",
      "378921  27995  576225    0.111992\n",
      "378922  27995  594136   74.837158\n",
      "378923  27995  594596    0.146424\n",
      "378924  27995  616555    0.173736\n",
      "378925  27995  618457    0.120343\n",
      "378926  27995  663354    0.097347\n",
      "\n",
      "[378927 rows x 3 columns]\n"
     ]
    }
   ],
   "source": [
    "from sklearn import preprocessing\n",
    "\n",
    "scaler = preprocessing.StandardScaler(with_mean=False).fit(matrix)\n",
    "\n",
    "X_scaled = scaler.transform(matrix)\n",
    "into_pd(X_scaled)"
   ]
  }
 ],
 "metadata": {
  "anaconda-cloud": {},
  "kernelspec": {
   "display_name": "Python [default]",
   "language": "python",
   "name": "python2"
  },
  "language_info": {
   "codemirror_mode": {
    "name": "ipython",
    "version": 2
   },
   "file_extension": ".py",
   "mimetype": "text/x-python",
   "name": "python",
   "nbconvert_exporter": "python",
   "pygments_lexer": "ipython2",
   "version": "2.7.12"
  }
 },
 "nbformat": 4,
 "nbformat_minor": 1
}
