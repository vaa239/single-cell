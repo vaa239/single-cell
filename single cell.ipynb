{
 "cells": [
  {
   "cell_type": "code",
   "execution_count": 4,
   "metadata": {
    "collapsed": false
   },
   "outputs": [
    {
     "name": "stdout",
     "output_type": "stream",
     "text": [
      "Empty DataFrame\n",
      "Columns: []\n",
      "Index: [AAACATACAAAAGC-1, AAACATACAAACAG-1, AAACATACAAACGA-1, AAACATACAAAGCA-1, AAACATACAAAGTG-1, AAACATACAACAGA-1, AAACATACAACCAC-1, AAACATACAACCGT-1, AAACATACAACCTG-1, AAACATACAACGAA-1, AAACATACAACGGG-1, AAACATACAACGTC-1, AAACATACAACTGC-1, AAACATACAAGAAC-1, AAACATACAAGAGT-1, AAACATACAAGATG-1, AAACATACAAGCAA-1, AAACATACAAGCCT-1, AAACATACAAGGCG-1, AAACATACAAGGGC-1, AAACATACAAGGTA-1, AAACATACAAGTAG-1, AAACATACAAGTGA-1, AAACATACAATCGC-1, AAACATACAATGCC-1, AAACATACACACAC-1, AAACATACACACCA-1, AAACATACACACGT-1, AAACATACACACTG-1, AAACATACACAGCT-1, AAACATACACAGTC-1, AAACATACACCAAC-1, AAACATACACCACA-1, AAACATACACCAGT-1, AAACATACACCATG-1, AAACATACACCCAA-1, AAACATACACCCTC-1, AAACATACACCGAT-1, AAACATACACCTAG-1, AAACATACACCTCC-1, AAACATACACCTGA-1, AAACATACACCTTT-1, AAACATACACGACT-1, AAACATACACGCAT-1, AAACATACACGCTA-1, AAACATACACGGAG-1, AAACATACACGGGA-1, AAACATACACGGTT-1, AAACATACACGTAC-1, AAACATACACGTGT-1, AAACATACACGTTG-1, AAACATACACTACG-1, AAACATACACTAGC-1, AAACATACACTCAG-1, AAACATACACTCTT-1, AAACATACACTGGT-1, AAACATACACTGTG-1, AAACATACACTTTC-1, AAACATACAGAACA-1, AAACATACAGAAGT-1, AAACATACAGAATG-1, AAACATACAGACTC-1, AAACATACAGAGAT-1, AAACATACAGAGGC-1, AAACATACAGAGTA-1, AAACATACAGATCC-1, AAACATACAGATGA-1, AAACATACAGCAAA-1, AAACATACAGCACT-1, AAACATACAGCATC-1, AAACATACAGCCAT-1, AAACATACAGCCTA-1, AAACATACAGCGGA-1, AAACATACAGCGTT-1, AAACATACAGCTAC-1, AAACATACAGCTCA-1, AAACATACAGGAGC-1, AAACATACAGGCGA-1, AAACATACAGGGTG-1, AAACATACAGGTCT-1, AAACATACAGGTTC-1, AAACATACAGTACC-1, AAACATACAGTAGA-1, AAACATACAGTCAC-1, AAACATACAGTCGT-1, AAACATACAGTCTG-1, AAACATACAGTGCT-1, AAACATACAGTGTC-1, AAACATACAGTTCG-1, AAACATACATAAGG-1, AAACATACATACCG-1, AAACATACATCACG-1, AAACATACATCAGC-1, AAACATACATCGAC-1, AAACATACATCGGT-1, AAACATACATCGTG-1, AAACATACATCTCT-1, AAACATACATCTTC-1, AAACATACATGACC-1, AAACATACATGCCA-1, ...]\n",
      "\n",
      "[737279 rows x 0 columns]\n",
      "Empty DataFrame\n",
      "Columns: []\n",
      "Index: [ENSG00000237613\tFAM138A, ENSG00000186092\tOR4F5, ENSG00000238009\tRP11-34P13.7, ENSG00000239945\tRP11-34P13.8, ENSG00000237683\tAL627309.1, ENSG00000239906\tRP11-34P13.14, ENSG00000241599\tRP11-34P13.9, ENSG00000228463\tAP006222.2, ENSG00000237094\tRP4-669L17.10, ENSG00000235249\tOR4F29, ENSG00000236601\tRP4-669L17.2, ENSG00000236743\tRP5-857K21.15, ENSG00000231709\tRP5-857K21.1, ENSG00000235146\tRP5-857K21.2, ENSG00000239664\tRP5-857K21.3, ENSG00000230021\tRP5-857K21.4, ENSG00000223659\tRP5-857K21.5, ENSG00000185097\tOR4F16, ENSG00000235373\tRP11-206L10.3, ENSG00000240618\tRP11-206L10.5, ENSG00000229905\tRP11-206L10.4, ENSG00000228327\tRP11-206L10.2, ENSG00000237491\tRP11-206L10.9, ENSG00000269831\tAL669831.1, ENSG00000177757\tFAM87B, ENSG00000225880\tLINC00115, ENSG00000230368\tFAM41C, ENSG00000269308\tAL645608.2, ENSG00000272438\tRP11-54O7.16, ENSG00000230699\tRP11-54O7.1, ENSG00000241180\tRP11-54O7.2, ENSG00000223764\tRP11-54O7.3, ENSG00000187634\tSAMD11, ENSG00000268179\tAL645608.1, ENSG00000188976\tNOC2L, ENSG00000187961\tKLHL17, ENSG00000187583\tPLEKHN1, ENSG00000187642\tC1orf170, ENSG00000272512\tRP11-54O7.17, ENSG00000188290\tHES4, ENSG00000224969\tRP11-54O7.11, ENSG00000187608\tISG15, ENSG00000188157\tAGRN, ENSG00000273443\tRP11-54O7.18, ENSG00000237330\tRNF223, ENSG00000131591\tC1orf159, ENSG00000223823\tRP11-465B22.5, ENSG00000272141\tRP11-465B22.8, ENSG00000205231\tTTLL10-AS1, ENSG00000162571\tTTLL10, ENSG00000186891\tTNFRSF18, ENSG00000186827\tTNFRSF4, ENSG00000078808\tSDF4, ENSG00000176022\tB3GALT6, ENSG00000184163\tFAM132A, ENSG00000260179\tRP5-902P8.12, ENSG00000160087\tUBE2J2, ENSG00000230415\tRP5-902P8.10, ENSG00000162572\tSCNN1D, ENSG00000131584\tACAP3, ENSG00000169972\tPUSL1, ENSG00000127054\tCPSF3L, ENSG00000224051\tGLTPD1, ENSG00000169962\tTAS1R3, ENSG00000107404\tDVL1, ENSG00000162576\tMXRA8, ENSG00000175756\tAURKAIP1, ENSG00000221978\tCCNL2, ENSG00000224870\tRP4-758J18.2, ENSG00000242485\tMRPL20, ENSG00000272455\tRP4-758J18.13, ENSG00000235098\tANKRD65, ENSG00000225905\tRP4-758J18.7, ENSG00000205116\tTMEM88B, ENSG00000225285\tRP4-758J18.10, ENSG00000179403\tVWA1, ENSG00000215915\tATAD3C, ENSG00000160072\tATAD3B, ENSG00000197785\tATAD3A, ENSG00000205090\tTMEM240, ENSG00000160075\tSSU72, ENSG00000215014\tAL645728.1, ENSG00000228594\tC1orf233, ENSG00000272106\tRP11-345P4.9, ENSG00000197530\tMIB2, ENSG00000189409\tMMP23B, ENSG00000248333\tCDK11B, ENSG00000272004\tRP11-345P4.10, ENSG00000189339\tSLC35E2B, ENSG00000269737\tRP11-345P4.7, ENSG00000008128\tCDK11A, ENSG00000215790\tSLC35E2, ENSG00000008130\tNADK, ENSG00000078369\tGNB1, ENSG00000231050\tRP1-140A9.1, ENSG00000169885\tCALML6, ENSG00000178821\tTMEM52, ENSG00000142609\tC1orf222, ENSG00000233542\tRP11-547D24.1, ENSG00000187730\tGABRD, ...]\n",
      "\n",
      "[32737 rows x 0 columns]\n"
     ]
    },
    {
     "data": {
      "text/plain": [
       "(32738, 737280, 13656983, 'coordinate', 'real', 'general')"
      ]
     },
     "execution_count": 4,
     "metadata": {},
     "output_type": "execute_result"
    }
   ],
   "source": [
    "import pandas as pd\n",
    "import numpy as np\n",
    "import seaborn as sns\n",
    "sns.set()\n",
    "%matplotlib inline\n",
    "\n",
    "from matplotlib import pyplot\n",
    "from scipy import stats\n",
    "\n",
    "from pandas import DataFrame\n",
    "\n",
    "url = \"../matrices_mex/hg19\"\n",
    "\n",
    "barcodes = DataFrame.from_csv(url + \"/barcodes.tsv\")\n",
    "\n",
    "print(barcodes)\n",
    "\n",
    "\n",
    "genes = DataFrame.from_csv(url + \"/genes.tsv\")\n",
    "\n",
    "print(genes)\n",
    "from scipy.io import mminfo,mmread\n",
    "mminfo(url + \"/matrix.mtx\")\n",
    "\n",
    "# matrix = mmread(\"matrices_mex/hg19/matrix.mtx\")"
   ]
  },
  {
   "cell_type": "code",
   "execution_count": 5,
   "metadata": {
    "collapsed": true
   },
   "outputs": [],
   "source": [
    "matrix = mmread(url+\"/matrix.mtx\")"
   ]
  },
  {
   "cell_type": "code",
   "execution_count": 9,
   "metadata": {
    "collapsed": false
   },
   "outputs": [],
   "source": [
    "def into_pd(m = matrix):\n",
    "    coo = m.tocoo(copy=False)\n",
    "    df = pd.DataFrame({'index': coo.row, 'col': coo.col, 'data': coo.data}\n",
    "                     )[['index', 'col', 'data']].sort_values(['index', 'col']\n",
    "                     ).reset_index(drop=True)\n",
    "    print(df)"
   ]
  },
  {
   "cell_type": "code",
   "execution_count": 16,
   "metadata": {
    "collapsed": false
   },
   "outputs": [
    {
     "name": "stdout",
     "output_type": "stream",
     "text": [
      "          index     col  data\n",
      "0             8   54435   1.0\n",
      "1            22   37247   1.0\n",
      "2            22  213996   1.0\n",
      "3            22  570980   1.0\n",
      "4            22  607069   1.0\n",
      "5            22  671338   1.0\n",
      "6            22  706289   1.0\n",
      "7            23   11601   1.0\n",
      "8            23   42345   1.0\n",
      "9            23   55471   1.0\n",
      "10           23   57168   1.0\n",
      "11           23   86902   1.0\n",
      "12           23   87768   1.0\n",
      "13           23   88648   1.0\n",
      "14           23  100341   1.0\n",
      "15           23  129127   1.0\n",
      "16           23  155930   1.0\n",
      "17           23  173675   1.0\n",
      "18           23  180858   1.0\n",
      "19           23  201842   1.0\n",
      "20           23  202657   1.0\n",
      "21           23  222199   1.0\n",
      "22           23  242823   1.0\n",
      "23           23  251515   1.0\n",
      "24           23  257718   1.0\n",
      "25           23  262874   1.0\n",
      "26           23  280661   1.0\n",
      "27           23  306603   1.0\n",
      "28           23  329786   1.0\n",
      "29           23  342306   1.0\n",
      "...         ...     ...   ...\n",
      "13656953  32721  735973   1.0\n",
      "13656954  32721  736138   1.0\n",
      "13656955  32721  736145   1.0\n",
      "13656956  32721  736340   5.0\n",
      "13656957  32721  736543   1.0\n",
      "13656958  32721  737220   2.0\n",
      "13656959  32722   90722   1.0\n",
      "13656960  32722  323757   1.0\n",
      "13656961  32722  392621   1.0\n",
      "13656962  32722  571784   1.0\n",
      "13656963  32722  583606   1.0\n",
      "13656964  32722  593411   1.0\n",
      "13656965  32722  656963   1.0\n",
      "13656966  32731  408325   1.0\n",
      "13656967  32732   36231   1.0\n",
      "13656968  32732   52417   1.0\n",
      "13656969  32732   54332   1.0\n",
      "13656970  32732  184863   1.0\n",
      "13656971  32732  186785   1.0\n",
      "13656972  32732  282280   1.0\n",
      "13656973  32732  294131   1.0\n",
      "13656974  32732  319226   1.0\n",
      "13656975  32732  373508   1.0\n",
      "13656976  32732  393474   1.0\n",
      "13656977  32732  463750   1.0\n",
      "13656978  32732  515367   1.0\n",
      "13656979  32732  535543   1.0\n",
      "13656980  32732  644275   1.0\n",
      "13656981  32732  671526   1.0\n",
      "13656982  32732  733567   1.0\n",
      "\n",
      "[13656983 rows x 3 columns]\n"
     ]
    }
   ],
   "source": [
    "into_pd(matrix)"
   ]
  },
  {
   "cell_type": "code",
   "execution_count": 10,
   "metadata": {
    "collapsed": false
   },
   "outputs": [
    {
     "name": "stdout",
     "output_type": "stream",
     "text": [
      "          index     col        data\n",
      "0             8   54435    0.228080\n",
      "1            22   37247    0.159605\n",
      "2            22  213996    0.118428\n",
      "3            22  570980    0.340867\n",
      "4            22  607069    0.479514\n",
      "5            22  671338    0.243513\n",
      "6            22  706289    0.229622\n",
      "7            23   11601    0.347859\n",
      "8            23   42345    0.233952\n",
      "9            23   55471    0.286156\n",
      "10           23   57168   23.983677\n",
      "11           23   86902    0.370228\n",
      "12           23   87768    0.114748\n",
      "13           23   88648    0.229120\n",
      "14           23  100341    0.249168\n",
      "15           23  129127    0.249263\n",
      "16           23  155930    0.098663\n",
      "17           23  173675  127.945301\n",
      "18           23  180858    0.247127\n",
      "19           23  201842   24.641185\n",
      "20           23  202657    0.141318\n",
      "21           23  222199    0.186627\n",
      "22           23  242823    0.227760\n",
      "23           23  251515   22.630562\n",
      "24           23  257718   22.454062\n",
      "25           23  262874    0.174841\n",
      "26           23  280661    0.719585\n",
      "27           23  306603    0.206439\n",
      "28           23  329786    0.142001\n",
      "29           23  342306    0.289779\n",
      "...         ...     ...         ...\n",
      "13656953  32721  735973    0.268648\n",
      "13656954  32721  736138    0.186568\n",
      "13656955  32721  736145    0.338239\n",
      "13656956  32721  736340    0.597660\n",
      "13656957  32721  736543    0.164246\n",
      "13656958  32721  737220    0.585528\n",
      "13656959  32722   90722    0.235506\n",
      "13656960  32722  323757    0.129593\n",
      "13656961  32722  392621    0.211159\n",
      "13656962  32722  571784    0.240662\n",
      "13656963  32722  583606    0.204077\n",
      "13656964  32722  593411    0.267307\n",
      "13656965  32722  656963    0.152596\n",
      "13656966  32731  408325    0.340742\n",
      "13656967  32732   36231    0.210066\n",
      "13656968  32732   52417    0.144478\n",
      "13656969  32732   54332    0.248956\n",
      "13656970  32732  184863    0.153499\n",
      "13656971  32732  186785    0.413946\n",
      "13656972  32732  282280    0.180609\n",
      "13656973  32732  294131    0.309308\n",
      "13656974  32732  319226    0.147922\n",
      "13656975  32732  373508    0.424512\n",
      "13656976  32732  393474    0.388512\n",
      "13656977  32732  463750    0.205513\n",
      "13656978  32732  515367    0.230534\n",
      "13656979  32732  535543    0.394112\n",
      "13656980  32732  644275    0.133584\n",
      "13656981  32732  671526    0.159349\n",
      "13656982  32732  733567    0.251083\n",
      "\n",
      "[13656983 rows x 3 columns]\n"
     ]
    }
   ],
   "source": [
    "from sklearn import preprocessing\n",
    "\n",
    "scaler = preprocessing.StandardScaler(with_mean=False).fit(matrix)\n",
    "\n",
    "X_scaled = scaler.transform(matrix)\n",
    "into_pd(X_scaled)"
   ]
  },
  {
   "cell_type": "code",
   "execution_count": 11,
   "metadata": {
    "collapsed": false
   },
   "outputs": [],
   "source": [
    "from sklearn.decomposition import TruncatedSVD"
   ]
  },
  {
   "cell_type": "code",
   "execution_count": 23,
   "metadata": {
    "collapsed": true
   },
   "outputs": [],
   "source": [
    "svd = TruncatedSVD(n_components=50)"
   ]
  },
  {
   "cell_type": "code",
   "execution_count": 24,
   "metadata": {
    "collapsed": false
   },
   "outputs": [],
   "source": [
    "X_transformed = svd.fit_transform(X_scaled)"
   ]
  },
  {
   "cell_type": "code",
   "execution_count": 25,
   "metadata": {
    "collapsed": false
   },
   "outputs": [
    {
     "data": {
      "text/plain": [
       "0.32096646758533637"
      ]
     },
     "execution_count": 25,
     "metadata": {},
     "output_type": "execute_result"
    }
   ],
   "source": [
    "svd.explained_variance_ratio_.sum()"
   ]
  },
  {
   "cell_type": "code",
   "execution_count": 31,
   "metadata": {
    "collapsed": false
   },
   "outputs": [],
   "source": [
    "from sklearn.manifold import TSNE"
   ]
  },
  {
   "cell_type": "code",
   "execution_count": 34,
   "metadata": {
    "collapsed": false
   },
   "outputs": [
    {
     "data": {
      "text/plain": [
       "(32738, 50)"
      ]
     },
     "execution_count": 34,
     "metadata": {},
     "output_type": "execute_result"
    }
   ],
   "source": [
    "X_transformed.shape"
   ]
  },
  {
   "cell_type": "code",
   "execution_count": 29,
   "metadata": {
    "collapsed": true
   },
   "outputs": [],
   "source": [
    "tsne = TSNE(n_components=2, random_state=0)"
   ]
  },
  {
   "cell_type": "code",
   "execution_count": 36,
   "metadata": {
    "collapsed": false
   },
   "outputs": [],
   "source": [
    "X_tsne = tsne.fit_transform(X_transformed[0:10000,:])"
   ]
  },
  {
   "cell_type": "code",
   "execution_count": 37,
   "metadata": {
    "collapsed": false
   },
   "outputs": [
    {
     "data": {
      "text/plain": [
       "<matplotlib.collections.PathCollection at 0x7f3d5c7fa790>"
      ]
     },
     "execution_count": 37,
     "metadata": {},
     "output_type": "execute_result"
    },
    {
     "data": {
      "image/png": "[encoded data removed]",
      "text/plain": [
       "<matplotlib.figure.Figure at 0x7f3da3751350>"
      ]
     },
     "metadata": {},
     "output_type": "display_data"
    }
   ],
   "source": [
    "pyplot.scatter(X_tsne[:, 0], X_tsne[:, 1])"
   ]
  },
  {
   "cell_type": "code",
   "execution_count": null,
   "metadata": {
    "collapsed": true
   },
   "outputs": [],
   "source": []
  }
 ],
 "metadata": {
  "anaconda-cloud": {},
  "kernelspec": {
   "display_name": "Python 2",
   "language": "python2",
   "name": "python2"
  },
  "language_info": {
   "codemirror_mode": {
    "name": "ipython",
    "version": 2
   },
   "file_extension": ".py",
   "mimetype": "text/x-python",
   "name": "python",
   "nbconvert_exporter": "python",
   "pygments_lexer": "ipython2",
   "version": "2.7.13"
  }
 },
 "nbformat": 4,
 "nbformat_minor": 1
}
